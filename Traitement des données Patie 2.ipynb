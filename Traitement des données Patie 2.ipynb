{
 "cells": [
  {
   "cell_type": "markdown",
   "metadata": {},
   "source": [
    "### 3.Traitement des données"
   ]
  },
  {
   "cell_type": "markdown",
   "metadata": {},
   "source": [
    "#### 3.1. Importer les bibliothèques adéquates"
   ]
  },
  {
   "cell_type": "markdown",
   "metadata": {},
   "source": [
    "#### 3.2. Importer le jeu de données (data-set)"
   ]
  },
  {
   "cell_type": "code",
   "execution_count": 1,
   "metadata": {},
   "outputs": [],
   "source": [
    "import pandas as pd\n",
    "import numpy as np\n",
    "from sklearn.impute import SimpleImputer\n",
    "from sklearn.preprocessing import LabelEncoder\n",
    "from sklearn.model_selection import train_test_split\n",
    "from sklearn.preprocessing import StandardScaler"
   ]
  },
  {
   "cell_type": "code",
   "execution_count": 2,
   "metadata": {},
   "outputs": [
    {
     "data": {
      "text/html": [
       "<div>\n",
       "<style scoped>\n",
       "    .dataframe tbody tr th:only-of-type {\n",
       "        vertical-align: middle;\n",
       "    }\n",
       "\n",
       "    .dataframe tbody tr th {\n",
       "        vertical-align: top;\n",
       "    }\n",
       "\n",
       "    .dataframe thead th {\n",
       "        text-align: right;\n",
       "    }\n",
       "</style>\n",
       "<table border=\"1\" class=\"dataframe\">\n",
       "  <thead>\n",
       "    <tr style=\"text-align: right;\">\n",
       "      <th></th>\n",
       "      <th>ID_NOM</th>\n",
       "      <th>Niv_Etude_Bac</th>\n",
       "      <th>age</th>\n",
       "      <th>contrat_de_travail</th>\n",
       "      <th>Salaire</th>\n",
       "      <th>dette_anterieure</th>\n",
       "      <th>etat_civile</th>\n",
       "      <th>apport</th>\n",
       "      <th>enfant_a_Charge</th>\n",
       "      <th>Solvable</th>\n",
       "    </tr>\n",
       "  </thead>\n",
       "  <tbody>\n",
       "    <tr>\n",
       "      <th>0</th>\n",
       "      <td>jean</td>\n",
       "      <td>3.0</td>\n",
       "      <td>45</td>\n",
       "      <td>CDI</td>\n",
       "      <td>40000</td>\n",
       "      <td>4000</td>\n",
       "      <td>M</td>\n",
       "      <td>0.3</td>\n",
       "      <td>3.0</td>\n",
       "      <td>OUI</td>\n",
       "    </tr>\n",
       "    <tr>\n",
       "      <th>1</th>\n",
       "      <td>VANESSA</td>\n",
       "      <td>5.0</td>\n",
       "      <td>28</td>\n",
       "      <td>CDI</td>\n",
       "      <td>30500</td>\n",
       "      <td>1320</td>\n",
       "      <td>M</td>\n",
       "      <td>0.1</td>\n",
       "      <td>0.0</td>\n",
       "      <td>OUI</td>\n",
       "    </tr>\n",
       "    <tr>\n",
       "      <th>2</th>\n",
       "      <td>TARCISSE</td>\n",
       "      <td>0.0</td>\n",
       "      <td>55</td>\n",
       "      <td>CDI</td>\n",
       "      <td>28000</td>\n",
       "      <td>40000</td>\n",
       "      <td>C</td>\n",
       "      <td>0.0</td>\n",
       "      <td>0.0</td>\n",
       "      <td>NON</td>\n",
       "    </tr>\n",
       "    <tr>\n",
       "      <th>3</th>\n",
       "      <td>TIBAULT</td>\n",
       "      <td>4.0</td>\n",
       "      <td>23</td>\n",
       "      <td>CDD</td>\n",
       "      <td>15000</td>\n",
       "      <td>0</td>\n",
       "      <td>M</td>\n",
       "      <td>0.1</td>\n",
       "      <td>NaN</td>\n",
       "      <td>OUI</td>\n",
       "    </tr>\n",
       "    <tr>\n",
       "      <th>4</th>\n",
       "      <td>GILES</td>\n",
       "      <td>0.0</td>\n",
       "      <td>33</td>\n",
       "      <td>CDD</td>\n",
       "      <td>27000</td>\n",
       "      <td>3000</td>\n",
       "      <td>C</td>\n",
       "      <td>0.1</td>\n",
       "      <td>2.0</td>\n",
       "      <td>NON</td>\n",
       "    </tr>\n",
       "  </tbody>\n",
       "</table>\n",
       "</div>"
      ],
      "text/plain": [
       "     ID_NOM  Niv_Etude_Bac  age contrat_de_travail  Salaire  dette_anterieure  \\\n",
       "0      jean            3.0   45                CDI    40000              4000   \n",
       "1   VANESSA            5.0   28                CDI    30500              1320   \n",
       "2  TARCISSE            0.0   55                CDI    28000             40000   \n",
       "3   TIBAULT            4.0   23                CDD    15000                 0   \n",
       "4     GILES            0.0   33                CDD    27000              3000   \n",
       "\n",
       "  etat_civile  apport  enfant_a_Charge Solvable  \n",
       "0           M     0.3              3.0      OUI  \n",
       "1           M     0.1              0.0      OUI  \n",
       "2           C     0.0              0.0      NON  \n",
       "3           M     0.1              NaN      OUI  \n",
       "4           C     0.1              2.0      NON  "
      ]
     },
     "execution_count": 2,
     "metadata": {},
     "output_type": "execute_result"
    }
   ],
   "source": [
    "#afficher fichier credit_immo csv\n",
    "dataimmo = pd.read_csv(\"./Data/credit_immo.csv\")\n",
    "dataimmo.head()"
   ]
  },
  {
   "cell_type": "markdown",
   "metadata": {},
   "source": [
    "#### 3.3.Transformer les valeurs manquantes en moyenne (SimpleImputer)"
   ]
  },
  {
   "cell_type": "code",
   "execution_count": 3,
   "metadata": {},
   "outputs": [],
   "source": [
    "#Les entrées ne prennent pas en compte la solvabilité et les noms\n",
    "X=dataimmo.iloc[:,-9:-1].values"
   ]
  },
  {
   "cell_type": "markdown",
   "metadata": {},
   "source": [
    "#### 3.4.1 Transformer les valeurs manquantes"
   ]
  },
  {
   "cell_type": "code",
   "execution_count": 4,
   "metadata": {},
   "outputs": [],
   "source": [
    "#Transformation des valeurs manquantes (nan) en moyenne\n",
    "imptr=SimpleImputer(missing_values=np.nan, strategy='mean')\n",
    "\n",
    "#Adapter le model aux données\n",
    "imptr.fit(X[:,0:1])\n",
    "imptr.fit(X[:,7:8])\n",
    "\n",
    "X[:,0:1] = imptr.transform(X[:,0:1])\n",
    "X[:,7:8] = imptr.transform(X[:,7:8])\n"
   ]
  },
  {
   "cell_type": "markdown",
   "metadata": {},
   "source": [
    "#### 3.4.2 Encoder les valeurs catégoriques (LabelEncoder)"
   ]
  },
  {
   "cell_type": "code",
   "execution_count": 5,
   "metadata": {},
   "outputs": [
    {
     "data": {
      "text/plain": [
       "array([1, 1, 1, 0, 0, 3, 1, 3, 1, 1, 1, 0, 3, 1, 0, 2, 1, 1, 1],\n",
       "      dtype=object)"
      ]
     },
     "execution_count": 5,
     "metadata": {},
     "output_type": "execute_result"
    }
   ],
   "source": [
    "from sklearn.preprocessing import LabelEncoder\n",
    "\n",
    "labelencoder = LabelEncoder ()\n",
    "\n",
    "#Encodage de la colonne 0 du tableau qui est catégorielle --> prenom\n",
    "X[:, 2] = labelencoder.fit_transform (X [:, 2])\n",
    "X[:, 2]"
   ]
  },
  {
   "cell_type": "code",
   "execution_count": 6,
   "metadata": {},
   "outputs": [],
   "source": [
    "#Avec LabelEncoder\n",
    "labelencoder = LabelEncoder()\n",
    "\n",
    "#Encodage de la colonne 5 du tableau qui est catégorielle -->  etat civil\n",
    "X[:,5]=labelencoder.fit_transform(X[:,5])"
   ]
  },
  {
   "cell_type": "markdown",
   "metadata": {},
   "source": [
    "#### La sortie correspond à la solvabilité des clients"
   ]
  },
  {
   "cell_type": "code",
   "execution_count": 7,
   "metadata": {},
   "outputs": [
    {
     "name": "stdout",
     "output_type": "stream",
     "text": [
      "(19, 1)\n",
      "(19, 8)\n"
     ]
    }
   ],
   "source": [
    "y=dataimmo.iloc[:,-1].values\n",
    "y=y.reshape(y.shape[0],1)\n",
    "print(y.shape)\n",
    "print(X.shape)"
   ]
  },
  {
   "cell_type": "markdown",
   "metadata": {},
   "source": [
    "#### Normalisation des valeurs de X"
   ]
  },
  {
   "cell_type": "code",
   "execution_count": 8,
   "metadata": {},
   "outputs": [
    {
     "name": "stdout",
     "output_type": "stream",
     "text": [
      "[[ 0.58695071  0.69964472 -0.16929979 -0.15939982 -0.34223088  0.67936622\n",
      "   1.24354001  1.32637071]\n",
      " [ 1.33877521 -0.77738303 -0.16929979 -0.61392855 -0.45846885  0.67936622\n",
      "  -0.33161067 -1.06109657]\n",
      " [-0.54078605  1.56848458 -0.16929979 -0.73354137  1.21917467 -1.47196014\n",
      "  -1.11918601 -1.06109657]\n",
      " [ 0.96286296 -1.21180295 -1.24153183 -1.35552804 -0.51572038  0.67936622\n",
      "  -0.33161067  0.        ]\n",
      " [-0.54078605 -0.3429631  -1.24153183 -0.7813865  -0.38560325 -1.47196014\n",
      "  -0.33161067  0.53054828]\n",
      " [-0.54078605  0.35210878  1.97516427 -0.15939982 -0.47234801  0.67936622\n",
      "  -1.11918601  2.12219314]\n",
      " [-0.9166983  -0.69049904 -0.16929979  0.31905146 -0.38560325 -1.47196014\n",
      "  -1.11918601 -1.06109657]\n",
      " [-1.6685228  -1.12491897  1.97516427 -0.68569624 -0.2988585  -1.47196014\n",
      "  -1.11918601 -1.06109657]\n",
      " [-0.03956971 -0.951151   -0.16929979  0.03198069 -0.51572038  0.67936622\n",
      "  -0.33161067 -0.26527414]\n",
      " [ 0.58695071  0.00457284 -0.16929979  0.11810192 -0.42897563  0.67936622\n",
      "   0.45596467  0.53054828]\n",
      " [ 0.21103846  0.2652248  -0.16929979  0.79750275 -0.45066182  0.67936622\n",
      "   1.24354001  1.32637071]\n",
      " [-0.54078605  0.09145683 -1.24153183 -0.82923162 -0.16874137 -1.47196014\n",
      "   2.03111535 -1.06109657]\n",
      " [-1.6685228   0.17834081  1.97516427 -0.68569624 -0.30319574  0.67936622\n",
      "  -1.11918601 -0.26527414]\n",
      " [-0.54078605 -0.51673107 -0.16929979 -0.01586444  3.82151725  0.67936622\n",
      "   0.45596467  0.53054828]\n",
      " [-0.16487379  2.87174436 -1.24153183  0.07982582  0.22161002 -1.47196014\n",
      "   1.24354001 -1.06109657]\n",
      " [-0.54078605  0.43899277  0.90293224  1.27595404  0.6119614   0.67936622\n",
      "   0.45596467 -1.06109657]\n",
      " [ 2.46651197  0.78652871 -0.16929979  1.75440532 -0.16874137  0.67936622\n",
      "  -1.11918601  1.32637071]\n",
      " [ 0.58695071 -1.21180295 -0.16929979  2.7113079  -0.51572038  0.67936622\n",
      "   1.24354001 -0.26527414]\n",
      " [ 0.96286296 -0.42984709 -0.16929979 -1.06845727 -0.46367353  0.67936622\n",
      "  -0.33161067  0.53054828]]\n"
     ]
    }
   ],
   "source": [
    "scaler = StandardScaler()\n",
    "X= scaler.fit_transform(X)\n",
    "print(X)"
   ]
  },
  {
   "cell_type": "markdown",
   "metadata": {},
   "source": [
    "#### 3.5. Fractionner le jeu de données pour l’entrainement et le test (Training and Test set)"
   ]
  },
  {
   "cell_type": "code",
   "execution_count": 9,
   "metadata": {},
   "outputs": [
    {
     "name": "stdout",
     "output_type": "stream",
     "text": [
      "[[-1.6685228   0.17834081  1.97516427 -0.68569624 -0.30319574  0.67936622\n",
      "  -1.11918601 -0.26527414]\n",
      " [-0.54078605  1.56848458 -0.16929979 -0.73354137  1.21917467 -1.47196014\n",
      "  -1.11918601 -1.06109657]\n",
      " [ 1.33877521 -0.77738303 -0.16929979 -0.61392855 -0.45846885  0.67936622\n",
      "  -0.33161067 -1.06109657]\n",
      " [ 2.46651197  0.78652871 -0.16929979  1.75440532 -0.16874137  0.67936622\n",
      "  -1.11918601  1.32637071]]\n"
     ]
    }
   ],
   "source": [
    "X_app, X_test, y_app, y_test = train_test_split(X,y,test_size=0.2,random_state=3)\n",
    "print(X_test)"
   ]
  },
  {
   "cell_type": "code",
   "execution_count": 10,
   "metadata": {},
   "outputs": [
    {
     "name": "stdout",
     "output_type": "stream",
     "text": [
      "(15, 8) (4, 8) (15, 1) (4, 1)\n"
     ]
    }
   ],
   "source": [
    "print(X_app.shape, X_test.shape, y_app.shape, y_test.shape)"
   ]
  },
  {
   "cell_type": "markdown",
   "metadata": {},
   "source": [
    "#### 3.6. mise à l’échelle des features : StandardScaler"
   ]
  },
  {
   "cell_type": "code",
   "execution_count": 11,
   "metadata": {},
   "outputs": [
    {
     "name": "stdout",
     "output_type": "stream",
     "text": [
      "[[-1.6685228   0.17834081  1.97516427 -0.68569624 -0.30319574  0.67936622\n",
      "  -1.11918601 -0.26527414]\n",
      " [-0.54078605  1.56848458 -0.16929979 -0.73354137  1.21917467 -1.47196014\n",
      "  -1.11918601 -1.06109657]\n",
      " [ 1.33877521 -0.77738303 -0.16929979 -0.61392855 -0.45846885  0.67936622\n",
      "  -0.33161067 -1.06109657]\n",
      " [ 2.46651197  0.78652871 -0.16929979  1.75440532 -0.16874137  0.67936622\n",
      "  -1.11918601  1.32637071]]\n",
      "===========================\n",
      "[[-1.28745262 -0.30382181  1.73205081 -0.58444479 -0.56019702  0.57735027\n",
      "  -0.57735027  0.        ]\n",
      " [-0.58520574  1.31656118 -0.57735027 -0.62983856  1.71165918 -1.73205081\n",
      "  -0.57735027 -0.81649658]\n",
      " [ 0.58520574 -1.41783511 -0.57735027 -0.51635413 -0.79191341  0.57735027\n",
      "   1.73205081 -0.81649658]\n",
      " [ 1.28745262  0.40509575 -0.57735027  1.73063748 -0.35954875  0.57735027\n",
      "  -0.57735027  1.63299316]]\n"
     ]
    }
   ],
   "source": [
    "#Normalisation des valeurs de X\n",
    "scaler = StandardScaler()\n",
    "print(X_test)\n",
    "#print(X_app)\n",
    "print('===========================')\n",
    "X_test2 = scaler.fit_transform(X_test)\n",
    "print(X_test2)"
   ]
  },
  {
   "cell_type": "code",
   "execution_count": null,
   "metadata": {},
   "outputs": [],
   "source": []
  }
 ],
 "metadata": {
  "kernelspec": {
   "display_name": "Python 3",
   "language": "python",
   "name": "python3"
  },
  "language_info": {
   "codemirror_mode": {
    "name": "ipython",
    "version": 3
   },
   "file_extension": ".py",
   "mimetype": "text/x-python",
   "name": "python",
   "nbconvert_exporter": "python",
   "pygments_lexer": "ipython3",
   "version": "3.8.5"
  }
 },
 "nbformat": 4,
 "nbformat_minor": 4
}
